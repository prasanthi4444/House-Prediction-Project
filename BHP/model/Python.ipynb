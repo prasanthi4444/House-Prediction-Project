{
 "cells": [
  {
   "cell_type": "code",
   "execution_count": 1,
   "id": "c18cf70a",
   "metadata": {},
   "outputs": [],
   "source": [
    "import pandas as pd\n",
    "import numpy as np\n",
    "from matplotlib import pyplot as plt\n",
    "%matplotlib inline\n",
    "import matplotlib\n",
    "import warnings\n",
    "matplotlib.rcParams[\"figure.figsize\"]=(20,10)"
   ]
  },
  {
   "cell_type": "code",
   "execution_count": 2,
   "id": "619b5e89",
   "metadata": {},
   "outputs": [
    {
     "data": {
      "text/html": [
       "<div>\n",
       "<style scoped>\n",
       "    .dataframe tbody tr th:only-of-type {\n",
       "        vertical-align: middle;\n",
       "    }\n",
       "\n",
       "    .dataframe tbody tr th {\n",
       "        vertical-align: top;\n",
       "    }\n",
       "\n",
       "    .dataframe thead th {\n",
       "        text-align: right;\n",
       "    }\n",
       "</style>\n",
       "<table border=\"1\" class=\"dataframe\">\n",
       "  <thead>\n",
       "    <tr style=\"text-align: right;\">\n",
       "      <th></th>\n",
       "      <th>zid</th>\n",
       "      <th>statusType</th>\n",
       "      <th>statusText</th>\n",
       "      <th>timeOnZillow</th>\n",
       "      <th>price</th>\n",
       "      <th>pricePerSqFt</th>\n",
       "      <th>zestimate</th>\n",
       "      <th>zestimatePerSqFt</th>\n",
       "      <th>rentZestimate</th>\n",
       "      <th>area</th>\n",
       "      <th>...</th>\n",
       "      <th>addressCity</th>\n",
       "      <th>addressState</th>\n",
       "      <th>addressZipcode</th>\n",
       "      <th>latitude</th>\n",
       "      <th>longitude</th>\n",
       "      <th>brokerName</th>\n",
       "      <th>isZillowOwned</th>\n",
       "      <th>detailUrl</th>\n",
       "      <th>image</th>\n",
       "      <th>sourceUrl</th>\n",
       "    </tr>\n",
       "  </thead>\n",
       "  <tbody>\n",
       "    <tr>\n",
       "      <th>0</th>\n",
       "      <td>2060953021</td>\n",
       "      <td>FOR_SALE</td>\n",
       "      <td>Townhouse for sale</td>\n",
       "      <td>19 days</td>\n",
       "      <td>499900</td>\n",
       "      <td>349.0</td>\n",
       "      <td>NaN</td>\n",
       "      <td>NaN</td>\n",
       "      <td>NaN</td>\n",
       "      <td>1432.0</td>\n",
       "      <td>...</td>\n",
       "      <td>Washington Navy Yard</td>\n",
       "      <td>DC</td>\n",
       "      <td>20374</td>\n",
       "      <td>38.874615</td>\n",
       "      <td>-76.993690</td>\n",
       "      <td>KW Metro Center</td>\n",
       "      <td>False</td>\n",
       "      <td>https://www.zillow.com/homedetails/358-N-St-SW...</td>\n",
       "      <td>https://photos.zillowstatic.com/fp/ee65bf80e79...</td>\n",
       "      <td>https://www.zillow.com/washington-dc/2_p/?sear...</td>\n",
       "    </tr>\n",
       "    <tr>\n",
       "      <th>1</th>\n",
       "      <td>334523800</td>\n",
       "      <td>FOR_SALE</td>\n",
       "      <td>Condo for sale</td>\n",
       "      <td>20 days</td>\n",
       "      <td>257444</td>\n",
       "      <td>331.0</td>\n",
       "      <td>255800.0</td>\n",
       "      <td>329.0</td>\n",
       "      <td>2608.0</td>\n",
       "      <td>778.0</td>\n",
       "      <td>...</td>\n",
       "      <td>Washington</td>\n",
       "      <td>DC</td>\n",
       "      <td>20002</td>\n",
       "      <td>38.893580</td>\n",
       "      <td>-76.995125</td>\n",
       "      <td>Long &amp; Foster Real Estate, Inc.</td>\n",
       "      <td>False</td>\n",
       "      <td>https://www.zillow.com/homedetails/300-8th-St-...</td>\n",
       "      <td>https://photos.zillowstatic.com/fp/2268a37a637...</td>\n",
       "      <td>https://www.zillow.com/washington-dc/2_p/?sear...</td>\n",
       "    </tr>\n",
       "    <tr>\n",
       "      <th>2</th>\n",
       "      <td>442870</td>\n",
       "      <td>FOR_SALE</td>\n",
       "      <td>House for sale</td>\n",
       "      <td>4 days</td>\n",
       "      <td>1068000</td>\n",
       "      <td>456.0</td>\n",
       "      <td>1073600.0</td>\n",
       "      <td>459.0</td>\n",
       "      <td>5000.0</td>\n",
       "      <td>2340.0</td>\n",
       "      <td>...</td>\n",
       "      <td>Washington</td>\n",
       "      <td>DC</td>\n",
       "      <td>20015</td>\n",
       "      <td>38.960064</td>\n",
       "      <td>-77.082290</td>\n",
       "      <td>Compass</td>\n",
       "      <td>False</td>\n",
       "      <td>https://www.zillow.com/homedetails/5330-42nd-S...</td>\n",
       "      <td>https://photos.zillowstatic.com/fp/586bd533844...</td>\n",
       "      <td>https://www.zillow.com/washington-dc/2_p/?sear...</td>\n",
       "    </tr>\n",
       "    <tr>\n",
       "      <th>3</th>\n",
       "      <td>2061780072</td>\n",
       "      <td>FOR_SALE</td>\n",
       "      <td>Condo for sale</td>\n",
       "      <td>NaN</td>\n",
       "      <td>159000</td>\n",
       "      <td>187.0</td>\n",
       "      <td>NaN</td>\n",
       "      <td>NaN</td>\n",
       "      <td>NaN</td>\n",
       "      <td>850.0</td>\n",
       "      <td>...</td>\n",
       "      <td>Washington</td>\n",
       "      <td>DC</td>\n",
       "      <td>20024</td>\n",
       "      <td>38.873444</td>\n",
       "      <td>-77.015450</td>\n",
       "      <td>JPAR Stellar Living</td>\n",
       "      <td>False</td>\n",
       "      <td>https://www.zillow.com/homedetails/1311-Delawa...</td>\n",
       "      <td>https://photos.zillowstatic.com/fp/b2e584081ab...</td>\n",
       "      <td>https://www.zillow.com/washington-dc/2_p/?sear...</td>\n",
       "    </tr>\n",
       "    <tr>\n",
       "      <th>4</th>\n",
       "      <td>2061275381</td>\n",
       "      <td>FOR_SALE</td>\n",
       "      <td>Townhouse for sale</td>\n",
       "      <td>NaN</td>\n",
       "      <td>650000</td>\n",
       "      <td>464.0</td>\n",
       "      <td>NaN</td>\n",
       "      <td>NaN</td>\n",
       "      <td>NaN</td>\n",
       "      <td>1400.0</td>\n",
       "      <td>...</td>\n",
       "      <td>Washington</td>\n",
       "      <td>DC</td>\n",
       "      <td>20011</td>\n",
       "      <td>38.957264</td>\n",
       "      <td>-77.033170</td>\n",
       "      <td>Home Source Real Estate Solutions</td>\n",
       "      <td>False</td>\n",
       "      <td>https://www.zillow.com/homedetails/501-1-Longf...</td>\n",
       "      <td>https://photos.zillowstatic.com/fp/2e5e62a22f8...</td>\n",
       "      <td>https://www.zillow.com/washington-dc/2_p/?sear...</td>\n",
       "    </tr>\n",
       "  </tbody>\n",
       "</table>\n",
       "<p>5 rows × 26 columns</p>\n",
       "</div>"
      ],
      "text/plain": [
       "          zid statusType          statusText timeOnZillow    price  \\\n",
       "0  2060953021   FOR_SALE  Townhouse for sale     19 days    499900   \n",
       "1   334523800   FOR_SALE      Condo for sale     20 days    257444   \n",
       "2      442870   FOR_SALE      House for sale      4 days   1068000   \n",
       "3  2061780072   FOR_SALE      Condo for sale          NaN   159000   \n",
       "4  2061275381   FOR_SALE  Townhouse for sale          NaN   650000   \n",
       "\n",
       "   pricePerSqFt  zestimate  zestimatePerSqFt  rentZestimate    area  ...  \\\n",
       "0         349.0        NaN               NaN            NaN  1432.0  ...   \n",
       "1         331.0   255800.0             329.0         2608.0   778.0  ...   \n",
       "2         456.0  1073600.0             459.0         5000.0  2340.0  ...   \n",
       "3         187.0        NaN               NaN            NaN   850.0  ...   \n",
       "4         464.0        NaN               NaN            NaN  1400.0  ...   \n",
       "\n",
       "            addressCity addressState  addressZipcode   latitude  longitude  \\\n",
       "0  Washington Navy Yard           DC           20374  38.874615 -76.993690   \n",
       "1            Washington           DC           20002  38.893580 -76.995125   \n",
       "2            Washington           DC           20015  38.960064 -77.082290   \n",
       "3            Washington           DC           20024  38.873444 -77.015450   \n",
       "4            Washington           DC           20011  38.957264 -77.033170   \n",
       "\n",
       "                          brokerName isZillowOwned  \\\n",
       "0                    KW Metro Center         False   \n",
       "1    Long & Foster Real Estate, Inc.         False   \n",
       "2                            Compass         False   \n",
       "3                JPAR Stellar Living         False   \n",
       "4  Home Source Real Estate Solutions         False   \n",
       "\n",
       "                                           detailUrl  \\\n",
       "0  https://www.zillow.com/homedetails/358-N-St-SW...   \n",
       "1  https://www.zillow.com/homedetails/300-8th-St-...   \n",
       "2  https://www.zillow.com/homedetails/5330-42nd-S...   \n",
       "3  https://www.zillow.com/homedetails/1311-Delawa...   \n",
       "4  https://www.zillow.com/homedetails/501-1-Longf...   \n",
       "\n",
       "                                               image  \\\n",
       "0  https://photos.zillowstatic.com/fp/ee65bf80e79...   \n",
       "1  https://photos.zillowstatic.com/fp/2268a37a637...   \n",
       "2  https://photos.zillowstatic.com/fp/586bd533844...   \n",
       "3  https://photos.zillowstatic.com/fp/b2e584081ab...   \n",
       "4  https://photos.zillowstatic.com/fp/2e5e62a22f8...   \n",
       "\n",
       "                                           sourceUrl  \n",
       "0  https://www.zillow.com/washington-dc/2_p/?sear...  \n",
       "1  https://www.zillow.com/washington-dc/2_p/?sear...  \n",
       "2  https://www.zillow.com/washington-dc/2_p/?sear...  \n",
       "3  https://www.zillow.com/washington-dc/2_p/?sear...  \n",
       "4  https://www.zillow.com/washington-dc/2_p/?sear...  \n",
       "\n",
       "[5 rows x 26 columns]"
      ]
     },
     "execution_count": 2,
     "metadata": {},
     "output_type": "execute_result"
    }
   ],
   "source": [
    "df=pd.read_csv(\"House.csv\")\n",
    "df.head()"
   ]
  },
  {
   "cell_type": "code",
   "execution_count": 3,
   "id": "e9eb78fd",
   "metadata": {},
   "outputs": [],
   "source": [
    "df=df.drop(['zid','timeOnZillow','zestimate','zestimatePerSqFt','rentZestimate','lotSize','lotAreaUnit','latitude','longitude','brokerName','isZillowOwned','detailUrl','image','sourceUrl','address'], axis=1)"
   ]
  },
  {
   "cell_type": "code",
   "execution_count": 4,
   "id": "91d6cd51",
   "metadata": {},
   "outputs": [
    {
     "data": {
      "text/plain": [
       "(1599, 11)"
      ]
     },
     "execution_count": 4,
     "metadata": {},
     "output_type": "execute_result"
    }
   ],
   "source": [
    "df.shape"
   ]
  },
  {
   "cell_type": "code",
   "execution_count": 5,
   "id": "d23e04f0",
   "metadata": {},
   "outputs": [
    {
     "data": {
      "text/plain": [
       "Index(['statusType', 'statusText', 'price', 'pricePerSqFt', 'area', 'beds',\n",
       "       'baths', 'addressStreet', 'addressCity', 'addressState',\n",
       "       'addressZipcode'],\n",
       "      dtype='object')"
      ]
     },
     "execution_count": 5,
     "metadata": {},
     "output_type": "execute_result"
    }
   ],
   "source": [
    "df.columns"
   ]
  },
  {
   "cell_type": "code",
   "execution_count": 6,
   "id": "9dde730a",
   "metadata": {},
   "outputs": [
    {
     "data": {
      "text/plain": [
       "array(['Townhouse for sale', 'Condo for sale', 'House for sale',\n",
       "       'Multi-family home for sale', 'Apartment for sale',\n",
       "       'Lot / Land for sale', 'Home for sale'], dtype=object)"
      ]
     },
     "execution_count": 6,
     "metadata": {},
     "output_type": "execute_result"
    }
   ],
   "source": [
    "df['statusText'].unique()"
   ]
  },
  {
   "cell_type": "code",
   "execution_count": 7,
   "id": "8a9c0137",
   "metadata": {},
   "outputs": [
    {
     "data": {
      "text/plain": [
       "House for sale                774\n",
       "Condo for sale                394\n",
       "Townhouse for sale            382\n",
       "Multi-family home for sale     21\n",
       "Home for sale                  17\n",
       "Apartment for sale              6\n",
       "Lot / Land for sale             5\n",
       "Name: statusText, dtype: int64"
      ]
     },
     "execution_count": 7,
     "metadata": {},
     "output_type": "execute_result"
    }
   ],
   "source": [
    "df['statusText'].value_counts()"
   ]
  },
  {
   "cell_type": "code",
   "execution_count": 8,
   "id": "b0d0dcae",
   "metadata": {},
   "outputs": [
    {
     "data": {
      "text/plain": [
       "array(['Washington Navy Yard', 'Washington', 'Bushwood', 'Cambridge',\n",
       "       'Laurel', 'Baltimore', 'Silver Spring', 'College Park', 'Odenton',\n",
       "       'Elkridge', 'Dundalk', 'Westminster', 'Cecilton',\n",
       "       'Fort Washington', 'Friendsville', 'Bel Air', 'Frederick',\n",
       "       'Annapolis', 'Mount Airy', 'Bethesda', 'Edgewood', 'Abingdon',\n",
       "       'Rockville', 'Lexington Park', 'Glen Burnie', 'Potomac',\n",
       "       'Salisbury', 'Waldorf', 'Cresaptown', 'Fort washington',\n",
       "       'Germantown', 'Reisterstown', 'Ocean City', 'Gaithersburg',\n",
       "       'Bowie', 'Pasadena', 'Lusby', 'Hunt Valley', 'Landover',\n",
       "       'Middletown', 'Jessup', 'Suitland', 'Accokeek', 'Ellicott City',\n",
       "       'Aberdeen', 'Williamsport', 'Ocean Pines', 'Marion', 'Essex',\n",
       "       'Hyattsville', 'Columbia', 'Shady Side', 'Hagerstown',\n",
       "       'Owings Mills', 'Chevy Chase', 'Sykesville', 'Upper Marlboro',\n",
       "       'Bishopville', 'Elkton', 'Severna Park', 'Tracys Landing',\n",
       "       'Newburg', 'Randallstown', 'Keedysville', 'Clarksburg', 'Denton',\n",
       "       'Beltsville', 'Stevensville', 'Finksburg', 'Woodbine',\n",
       "       'Davidsonville', 'Smithsburg', 'Cumberland', 'Fruitland',\n",
       "       'District Heights', 'Oxon Hill', 'Capitol Heights', 'Boonsboro',\n",
       "       'Upperco', 'Harwood', 'Thurmont', 'Fishing Creek', 'Rising Sun',\n",
       "       'Berlin', 'Indian Head', 'Hanover', 'Towson', 'Temple Hills',\n",
       "       'Oakland', 'Baldwin', 'Hampstead', 'Severn', 'Westernport',\n",
       "       'North East', 'Pittsville', 'Windsor Mill', 'Princess Anne',\n",
       "       'Knoxville', 'Middle River', 'Damascus', 'Lothian', 'Joppa',\n",
       "       'Leonardtown', 'Temple hills', 'Parsonsburg', 'Mount Rainier',\n",
       "       'Taneytown', 'Delmar', 'Vienna', 'Huntingtown', 'New Windsor',\n",
       "       'Keymar', 'Arnold', 'Fallston', 'Brunswick', 'Parkville',\n",
       "       'Swanton', 'Clinton', 'Highland', 'Easton', 'Warwick', 'Crisfield',\n",
       "       'Pikesville', 'Fulton', 'Brandywine', 'Takoma Park',\n",
       "       'Pocomoke City', 'Mount Savage', 'Crownsville', 'Cascade',\n",
       "       'Snow Hill', 'Brentwood', 'Rock Hall', 'Kensington', 'Mc Henry',\n",
       "       'Linthicum', 'Parkton', 'Catonsville', 'Bladensburg',\n",
       "       'Millersville', 'Darlington', 'Piney Point', 'Port Deposit',\n",
       "       'Conowingo', 'California', 'Mchenry', 'East New Market',\n",
       "       'Stevenson', 'Olney', 'Federalsburg', 'Lanham', 'Centreville',\n",
       "       'Ijamsville', 'Havre De Grace', 'Brookeville', 'Dunkirk',\n",
       "       'Edgewater', 'Nottingham', 'White Plains', 'New Market',\n",
       "       'Accident', 'Deal Island', 'Crofton', 'Owings', 'Monrovia',\n",
       "       'North Beach', 'Lutherville Timonium', 'Saint Leonard', 'Boyds',\n",
       "       'Hollywood', 'Saint Michaels', 'Pt Republic', 'Ashton',\n",
       "       'White Marsh', 'Glenn Dale', 'Chesapeake Beach', 'Chestertown',\n",
       "       'Pylesville', 'Churchton', 'Sparks Glencoe', 'Tilghman',\n",
       "       'Greenbelt', 'Saint Inigoes', 'White Hall', 'Gambrills', 'Marydel',\n",
       "       'Chesapeake City', 'La Plata', 'Chester', 'Savage',\n",
       "       'Prince Frederick', 'Eldersburg', 'Big Pool', 'Belcamp', 'Colora',\n",
       "       'Cheltenham', 'Queen Anne', 'Drayden', 'Silver spring',\n",
       "       'Mechanicsville', 'Sharpsburg', 'Grantsville', 'Rosedale',\n",
       "       'Monkton', 'Sparrows Point', 'Stockton', 'Jarrettsville',\n",
       "       'Clarksville', 'Woodstock', 'Adamstown', 'Millington',\n",
       "       'Rocky Ridge', 'Wheaton'], dtype=object)"
      ]
     },
     "execution_count": 8,
     "metadata": {},
     "output_type": "execute_result"
    }
   ],
   "source": [
    "df['addressCity'].unique()"
   ]
  },
  {
   "cell_type": "code",
   "execution_count": 9,
   "id": "0baf3ec6",
   "metadata": {},
   "outputs": [
    {
     "data": {
      "text/plain": [
       "statusType         0\n",
       "statusText         0\n",
       "price              0\n",
       "pricePerSqFt       5\n",
       "area               5\n",
       "beds               5\n",
       "baths             19\n",
       "addressStreet      0\n",
       "addressCity        0\n",
       "addressState       0\n",
       "addressZipcode     0\n",
       "dtype: int64"
      ]
     },
     "execution_count": 9,
     "metadata": {},
     "output_type": "execute_result"
    }
   ],
   "source": [
    "df.isnull().sum()"
   ]
  },
  {
   "cell_type": "code",
   "execution_count": 10,
   "id": "7c941047",
   "metadata": {},
   "outputs": [
    {
     "data": {
      "text/plain": [
       "statusType        0\n",
       "statusText        0\n",
       "price             0\n",
       "pricePerSqFt      0\n",
       "area              0\n",
       "beds              0\n",
       "baths             0\n",
       "addressStreet     0\n",
       "addressCity       0\n",
       "addressState      0\n",
       "addressZipcode    0\n",
       "dtype: int64"
      ]
     },
     "execution_count": 10,
     "metadata": {},
     "output_type": "execute_result"
    }
   ],
   "source": [
    "df3 = df.dropna()\n",
    "df3.isnull().sum()"
   ]
  },
  {
   "cell_type": "code",
   "execution_count": 11,
   "id": "a1a901dc",
   "metadata": {},
   "outputs": [
    {
     "name": "stderr",
     "output_type": "stream",
     "text": [
      "C:\\Users\\paras\\AppData\\Local\\Temp/ipykernel_4428/2037948543.py:1: SettingWithCopyWarning: \n",
      "A value is trying to be set on a copy of a slice from a DataFrame.\n",
      "Try using .loc[row_indexer,col_indexer] = value instead\n",
      "\n",
      "See the caveats in the documentation: https://pandas.pydata.org/pandas-docs/stable/user_guide/indexing.html#returning-a-view-versus-a-copy\n",
      "  df3['beds'] = df3['beds'].apply(np.int64)\n"
     ]
    }
   ],
   "source": [
    "df3['beds'] = df3['beds'].apply(np.int64)"
   ]
  },
  {
   "cell_type": "code",
   "execution_count": 12,
   "id": "d170eec1",
   "metadata": {},
   "outputs": [
    {
     "data": {
      "text/plain": [
       "array([ 2,  3,  4,  5,  1,  6,  0,  8,  7, 12,  9, 10, 16, 13],\n",
       "      dtype=int64)"
      ]
     },
     "execution_count": 12,
     "metadata": {},
     "output_type": "execute_result"
    }
   ],
   "source": [
    "df3.beds.unique()"
   ]
  },
  {
   "cell_type": "code",
   "execution_count": 13,
   "id": "7245e31c",
   "metadata": {},
   "outputs": [
    {
     "name": "stderr",
     "output_type": "stream",
     "text": [
      "C:\\Users\\paras\\AppData\\Local\\Temp/ipykernel_4428/1609182005.py:1: SettingWithCopyWarning: \n",
      "A value is trying to be set on a copy of a slice from a DataFrame.\n",
      "Try using .loc[row_indexer,col_indexer] = value instead\n",
      "\n",
      "See the caveats in the documentation: https://pandas.pydata.org/pandas-docs/stable/user_guide/indexing.html#returning-a-view-versus-a-copy\n",
      "  df3['area'] = df3['area'].apply(np.int64)\n"
     ]
    }
   ],
   "source": [
    "df3['area'] = df3['area'].apply(np.int64)"
   ]
  },
  {
   "cell_type": "code",
   "execution_count": 14,
   "id": "24bb4e0a",
   "metadata": {},
   "outputs": [
    {
     "data": {
      "text/plain": [
       "array([1432,  778, 2340, ..., 2275, 2616, 1518], dtype=int64)"
      ]
     },
     "execution_count": 14,
     "metadata": {},
     "output_type": "execute_result"
    }
   ],
   "source": [
    "df3.area.unique()"
   ]
  },
  {
   "cell_type": "code",
   "execution_count": 15,
   "id": "a96ff428",
   "metadata": {},
   "outputs": [
    {
     "data": {
      "text/html": [
       "<div>\n",
       "<style scoped>\n",
       "    .dataframe tbody tr th:only-of-type {\n",
       "        vertical-align: middle;\n",
       "    }\n",
       "\n",
       "    .dataframe tbody tr th {\n",
       "        vertical-align: top;\n",
       "    }\n",
       "\n",
       "    .dataframe thead th {\n",
       "        text-align: right;\n",
       "    }\n",
       "</style>\n",
       "<table border=\"1\" class=\"dataframe\">\n",
       "  <thead>\n",
       "    <tr style=\"text-align: right;\">\n",
       "      <th></th>\n",
       "      <th>statusType</th>\n",
       "      <th>statusText</th>\n",
       "      <th>price</th>\n",
       "      <th>pricePerSqFt</th>\n",
       "      <th>area</th>\n",
       "      <th>beds</th>\n",
       "      <th>baths</th>\n",
       "      <th>addressStreet</th>\n",
       "      <th>addressCity</th>\n",
       "      <th>addressState</th>\n",
       "      <th>addressZipcode</th>\n",
       "    </tr>\n",
       "  </thead>\n",
       "  <tbody>\n",
       "    <tr>\n",
       "      <th>0</th>\n",
       "      <td>FOR_SALE</td>\n",
       "      <td>Townhouse for sale</td>\n",
       "      <td>499900</td>\n",
       "      <td>349.0</td>\n",
       "      <td>1432</td>\n",
       "      <td>2</td>\n",
       "      <td>2.0</td>\n",
       "      <td>358 N St SW</td>\n",
       "      <td>Washington Navy Yard</td>\n",
       "      <td>DC</td>\n",
       "      <td>20374</td>\n",
       "    </tr>\n",
       "    <tr>\n",
       "      <th>1</th>\n",
       "      <td>FOR_SALE</td>\n",
       "      <td>Condo for sale</td>\n",
       "      <td>257444</td>\n",
       "      <td>331.0</td>\n",
       "      <td>778</td>\n",
       "      <td>2</td>\n",
       "      <td>1.0</td>\n",
       "      <td>300 8th St NE UNIT 205</td>\n",
       "      <td>Washington</td>\n",
       "      <td>DC</td>\n",
       "      <td>20002</td>\n",
       "    </tr>\n",
       "    <tr>\n",
       "      <th>2</th>\n",
       "      <td>FOR_SALE</td>\n",
       "      <td>House for sale</td>\n",
       "      <td>1068000</td>\n",
       "      <td>456.0</td>\n",
       "      <td>2340</td>\n",
       "      <td>3</td>\n",
       "      <td>4.0</td>\n",
       "      <td>5330 42nd St NW</td>\n",
       "      <td>Washington</td>\n",
       "      <td>DC</td>\n",
       "      <td>20015</td>\n",
       "    </tr>\n",
       "    <tr>\n",
       "      <th>3</th>\n",
       "      <td>FOR_SALE</td>\n",
       "      <td>Condo for sale</td>\n",
       "      <td>159000</td>\n",
       "      <td>187.0</td>\n",
       "      <td>850</td>\n",
       "      <td>2</td>\n",
       "      <td>2.0</td>\n",
       "      <td>1311 Delaware Ave SW #137</td>\n",
       "      <td>Washington</td>\n",
       "      <td>DC</td>\n",
       "      <td>20024</td>\n",
       "    </tr>\n",
       "    <tr>\n",
       "      <th>4</th>\n",
       "      <td>FOR_SALE</td>\n",
       "      <td>Townhouse for sale</td>\n",
       "      <td>650000</td>\n",
       "      <td>464.0</td>\n",
       "      <td>1400</td>\n",
       "      <td>3</td>\n",
       "      <td>3.0</td>\n",
       "      <td>501-1 Longfellow St NW</td>\n",
       "      <td>Washington</td>\n",
       "      <td>DC</td>\n",
       "      <td>20011</td>\n",
       "    </tr>\n",
       "  </tbody>\n",
       "</table>\n",
       "</div>"
      ],
      "text/plain": [
       "  statusType          statusText    price  pricePerSqFt  area  beds  baths  \\\n",
       "0   FOR_SALE  Townhouse for sale   499900         349.0  1432     2    2.0   \n",
       "1   FOR_SALE      Condo for sale   257444         331.0   778     2    1.0   \n",
       "2   FOR_SALE      House for sale  1068000         456.0  2340     3    4.0   \n",
       "3   FOR_SALE      Condo for sale   159000         187.0   850     2    2.0   \n",
       "4   FOR_SALE  Townhouse for sale   650000         464.0  1400     3    3.0   \n",
       "\n",
       "               addressStreet           addressCity addressState  \\\n",
       "0                358 N St SW  Washington Navy Yard           DC   \n",
       "1     300 8th St NE UNIT 205            Washington           DC   \n",
       "2            5330 42nd St NW            Washington           DC   \n",
       "3  1311 Delaware Ave SW #137            Washington           DC   \n",
       "4     501-1 Longfellow St NW            Washington           DC   \n",
       "\n",
       "   addressZipcode  \n",
       "0           20374  \n",
       "1           20002  \n",
       "2           20015  \n",
       "3           20024  \n",
       "4           20011  "
      ]
     },
     "execution_count": 15,
     "metadata": {},
     "output_type": "execute_result"
    }
   ],
   "source": [
    "df3.head()"
   ]
  },
  {
   "cell_type": "code",
   "execution_count": 16,
   "id": "6ff04c4b",
   "metadata": {},
   "outputs": [
    {
     "data": {
      "text/plain": [
       "1580"
      ]
     },
     "execution_count": 16,
     "metadata": {},
     "output_type": "execute_result"
    }
   ],
   "source": [
    "len(df3.addressStreet.unique())"
   ]
  },
  {
   "cell_type": "code",
   "execution_count": 17,
   "id": "ad560233",
   "metadata": {},
   "outputs": [
    {
     "name": "stderr",
     "output_type": "stream",
     "text": [
      "C:\\Users\\paras\\anaconda3\\lib\\site-packages\\pandas\\core\\generic.py:5516: SettingWithCopyWarning: \n",
      "A value is trying to be set on a copy of a slice from a DataFrame.\n",
      "Try using .loc[row_indexer,col_indexer] = value instead\n",
      "\n",
      "See the caveats in the documentation: https://pandas.pydata.org/pandas-docs/stable/user_guide/indexing.html#returning-a-view-versus-a-copy\n",
      "  self[name] = value\n"
     ]
    },
    {
     "data": {
      "text/plain": [
       "addressStreet\n",
       "1 Beach Rd                          1\n",
       "4201 Cathedral Ave NW APT 1005W     1\n",
       "4200 Cathedral Ave NW APT 1005      1\n",
       "420 Independence Ave SE             1\n",
       "42 Lafayette Ave                    1\n",
       "                                   ..\n",
       "1873 Channing St NE                 1\n",
       "18606 Bay Leaf Way                  1\n",
       "1860 California St NW APT 202       1\n",
       "1855 Dutch Village Dr UNIT J-285    1\n",
       "9909 Empire Ct                      1\n",
       "Name: addressStreet, Length: 1580, dtype: int64"
      ]
     },
     "execution_count": 17,
     "metadata": {},
     "output_type": "execute_result"
    }
   ],
   "source": [
    "df3.addressStreet = df3.addressStreet.apply(lambda x: x.strip())\n",
    "location_stats=df3.groupby('addressStreet')['addressStreet'].agg('count').sort_values(ascending=False)\n",
    "location_stats"
   ]
  },
  {
   "cell_type": "code",
   "execution_count": 18,
   "id": "b1f855e1",
   "metadata": {},
   "outputs": [
    {
     "data": {
      "text/html": [
       "<div>\n",
       "<style scoped>\n",
       "    .dataframe tbody tr th:only-of-type {\n",
       "        vertical-align: middle;\n",
       "    }\n",
       "\n",
       "    .dataframe tbody tr th {\n",
       "        vertical-align: top;\n",
       "    }\n",
       "\n",
       "    .dataframe thead th {\n",
       "        text-align: right;\n",
       "    }\n",
       "</style>\n",
       "<table border=\"1\" class=\"dataframe\">\n",
       "  <thead>\n",
       "    <tr style=\"text-align: right;\">\n",
       "      <th></th>\n",
       "      <th>statusText</th>\n",
       "      <th>price</th>\n",
       "      <th>area</th>\n",
       "      <th>beds</th>\n",
       "      <th>baths</th>\n",
       "      <th>addressCity</th>\n",
       "      <th>addressState</th>\n",
       "      <th>addressZipcode</th>\n",
       "    </tr>\n",
       "  </thead>\n",
       "  <tbody>\n",
       "    <tr>\n",
       "      <th>0</th>\n",
       "      <td>Townhouse for sale</td>\n",
       "      <td>499900</td>\n",
       "      <td>1432</td>\n",
       "      <td>2</td>\n",
       "      <td>2.0</td>\n",
       "      <td>Washington Navy Yard</td>\n",
       "      <td>DC</td>\n",
       "      <td>20374</td>\n",
       "    </tr>\n",
       "    <tr>\n",
       "      <th>1</th>\n",
       "      <td>Condo for sale</td>\n",
       "      <td>257444</td>\n",
       "      <td>778</td>\n",
       "      <td>2</td>\n",
       "      <td>1.0</td>\n",
       "      <td>Washington</td>\n",
       "      <td>DC</td>\n",
       "      <td>20002</td>\n",
       "    </tr>\n",
       "    <tr>\n",
       "      <th>2</th>\n",
       "      <td>House for sale</td>\n",
       "      <td>1068000</td>\n",
       "      <td>2340</td>\n",
       "      <td>3</td>\n",
       "      <td>4.0</td>\n",
       "      <td>Washington</td>\n",
       "      <td>DC</td>\n",
       "      <td>20015</td>\n",
       "    </tr>\n",
       "    <tr>\n",
       "      <th>3</th>\n",
       "      <td>Condo for sale</td>\n",
       "      <td>159000</td>\n",
       "      <td>850</td>\n",
       "      <td>2</td>\n",
       "      <td>2.0</td>\n",
       "      <td>Washington</td>\n",
       "      <td>DC</td>\n",
       "      <td>20024</td>\n",
       "    </tr>\n",
       "    <tr>\n",
       "      <th>4</th>\n",
       "      <td>Townhouse for sale</td>\n",
       "      <td>650000</td>\n",
       "      <td>1400</td>\n",
       "      <td>3</td>\n",
       "      <td>3.0</td>\n",
       "      <td>Washington</td>\n",
       "      <td>DC</td>\n",
       "      <td>20011</td>\n",
       "    </tr>\n",
       "  </tbody>\n",
       "</table>\n",
       "</div>"
      ],
      "text/plain": [
       "           statusText    price  area  beds  baths           addressCity  \\\n",
       "0  Townhouse for sale   499900  1432     2    2.0  Washington Navy Yard   \n",
       "1      Condo for sale   257444   778     2    1.0            Washington   \n",
       "2      House for sale  1068000  2340     3    4.0            Washington   \n",
       "3      Condo for sale   159000   850     2    2.0            Washington   \n",
       "4  Townhouse for sale   650000  1400     3    3.0            Washington   \n",
       "\n",
       "  addressState  addressZipcode  \n",
       "0           DC           20374  \n",
       "1           DC           20002  \n",
       "2           DC           20015  \n",
       "3           DC           20024  \n",
       "4           DC           20011  "
      ]
     },
     "execution_count": 18,
     "metadata": {},
     "output_type": "execute_result"
    }
   ],
   "source": [
    "df3=df3.drop(['statusType','pricePerSqFt','addressStreet'],axis=1)\n",
    "df3.head()"
   ]
  },
  {
   "cell_type": "code",
   "execution_count": null,
   "id": "1717d860",
   "metadata": {},
   "outputs": [],
   "source": [
    "# dummies1 = pd.get_dummies(df3.statusText)\n",
    "# dummies1.head(3)"
   ]
  },
  {
   "cell_type": "code",
   "execution_count": 19,
   "id": "572d3977",
   "metadata": {},
   "outputs": [
    {
     "data": {
      "text/html": [
       "<div>\n",
       "<style scoped>\n",
       "    .dataframe tbody tr th:only-of-type {\n",
       "        vertical-align: middle;\n",
       "    }\n",
       "\n",
       "    .dataframe tbody tr th {\n",
       "        vertical-align: top;\n",
       "    }\n",
       "\n",
       "    .dataframe thead th {\n",
       "        text-align: right;\n",
       "    }\n",
       "</style>\n",
       "<table border=\"1\" class=\"dataframe\">\n",
       "  <thead>\n",
       "    <tr style=\"text-align: right;\">\n",
       "      <th></th>\n",
       "      <th>Aberdeen</th>\n",
       "      <th>Abingdon</th>\n",
       "      <th>Accident</th>\n",
       "      <th>Accokeek</th>\n",
       "      <th>Adamstown</th>\n",
       "      <th>Annapolis</th>\n",
       "      <th>Arnold</th>\n",
       "      <th>Ashton</th>\n",
       "      <th>Baldwin</th>\n",
       "      <th>Baltimore</th>\n",
       "      <th>...</th>\n",
       "      <th>Westernport</th>\n",
       "      <th>Westminster</th>\n",
       "      <th>Wheaton</th>\n",
       "      <th>White Hall</th>\n",
       "      <th>White Marsh</th>\n",
       "      <th>White Plains</th>\n",
       "      <th>Williamsport</th>\n",
       "      <th>Windsor Mill</th>\n",
       "      <th>Woodbine</th>\n",
       "      <th>Woodstock</th>\n",
       "    </tr>\n",
       "  </thead>\n",
       "  <tbody>\n",
       "    <tr>\n",
       "      <th>0</th>\n",
       "      <td>0</td>\n",
       "      <td>0</td>\n",
       "      <td>0</td>\n",
       "      <td>0</td>\n",
       "      <td>0</td>\n",
       "      <td>0</td>\n",
       "      <td>0</td>\n",
       "      <td>0</td>\n",
       "      <td>0</td>\n",
       "      <td>0</td>\n",
       "      <td>...</td>\n",
       "      <td>0</td>\n",
       "      <td>0</td>\n",
       "      <td>0</td>\n",
       "      <td>0</td>\n",
       "      <td>0</td>\n",
       "      <td>0</td>\n",
       "      <td>0</td>\n",
       "      <td>0</td>\n",
       "      <td>0</td>\n",
       "      <td>0</td>\n",
       "    </tr>\n",
       "    <tr>\n",
       "      <th>1</th>\n",
       "      <td>0</td>\n",
       "      <td>0</td>\n",
       "      <td>0</td>\n",
       "      <td>0</td>\n",
       "      <td>0</td>\n",
       "      <td>0</td>\n",
       "      <td>0</td>\n",
       "      <td>0</td>\n",
       "      <td>0</td>\n",
       "      <td>0</td>\n",
       "      <td>...</td>\n",
       "      <td>0</td>\n",
       "      <td>0</td>\n",
       "      <td>0</td>\n",
       "      <td>0</td>\n",
       "      <td>0</td>\n",
       "      <td>0</td>\n",
       "      <td>0</td>\n",
       "      <td>0</td>\n",
       "      <td>0</td>\n",
       "      <td>0</td>\n",
       "    </tr>\n",
       "    <tr>\n",
       "      <th>2</th>\n",
       "      <td>0</td>\n",
       "      <td>0</td>\n",
       "      <td>0</td>\n",
       "      <td>0</td>\n",
       "      <td>0</td>\n",
       "      <td>0</td>\n",
       "      <td>0</td>\n",
       "      <td>0</td>\n",
       "      <td>0</td>\n",
       "      <td>0</td>\n",
       "      <td>...</td>\n",
       "      <td>0</td>\n",
       "      <td>0</td>\n",
       "      <td>0</td>\n",
       "      <td>0</td>\n",
       "      <td>0</td>\n",
       "      <td>0</td>\n",
       "      <td>0</td>\n",
       "      <td>0</td>\n",
       "      <td>0</td>\n",
       "      <td>0</td>\n",
       "    </tr>\n",
       "  </tbody>\n",
       "</table>\n",
       "<p>3 rows × 212 columns</p>\n",
       "</div>"
      ],
      "text/plain": [
       "   Aberdeen  Abingdon  Accident  Accokeek  Adamstown  Annapolis  Arnold  \\\n",
       "0         0         0         0         0          0          0       0   \n",
       "1         0         0         0         0          0          0       0   \n",
       "2         0         0         0         0          0          0       0   \n",
       "\n",
       "   Ashton  Baldwin  Baltimore  ...  Westernport  Westminster  Wheaton  \\\n",
       "0       0        0          0  ...            0            0        0   \n",
       "1       0        0          0  ...            0            0        0   \n",
       "2       0        0          0  ...            0            0        0   \n",
       "\n",
       "   White Hall  White Marsh  White Plains  Williamsport  Windsor Mill  \\\n",
       "0           0            0             0             0             0   \n",
       "1           0            0             0             0             0   \n",
       "2           0            0             0             0             0   \n",
       "\n",
       "   Woodbine  Woodstock  \n",
       "0         0          0  \n",
       "1         0          0  \n",
       "2         0          0  \n",
       "\n",
       "[3 rows x 212 columns]"
      ]
     },
     "execution_count": 19,
     "metadata": {},
     "output_type": "execute_result"
    }
   ],
   "source": [
    "dummies3 = pd.get_dummies(df3.addressCity)\n",
    "dummies3.head(3)"
   ]
  },
  {
   "cell_type": "code",
   "execution_count": null,
   "id": "5b14089a",
   "metadata": {},
   "outputs": [],
   "source": [
    "# dummies4 = pd.get_dummies(df3.addressState)\n",
    "# dummies4.head(3)"
   ]
  },
  {
   "cell_type": "code",
   "execution_count": 20,
   "id": "21927b3c",
   "metadata": {},
   "outputs": [
    {
     "data": {
      "text/html": [
       "<div>\n",
       "<style scoped>\n",
       "    .dataframe tbody tr th:only-of-type {\n",
       "        vertical-align: middle;\n",
       "    }\n",
       "\n",
       "    .dataframe tbody tr th {\n",
       "        vertical-align: top;\n",
       "    }\n",
       "\n",
       "    .dataframe thead th {\n",
       "        text-align: right;\n",
       "    }\n",
       "</style>\n",
       "<table border=\"1\" class=\"dataframe\">\n",
       "  <thead>\n",
       "    <tr style=\"text-align: right;\">\n",
       "      <th></th>\n",
       "      <th>statusText</th>\n",
       "      <th>price</th>\n",
       "      <th>area</th>\n",
       "      <th>beds</th>\n",
       "      <th>baths</th>\n",
       "      <th>addressCity</th>\n",
       "      <th>addressState</th>\n",
       "      <th>addressZipcode</th>\n",
       "      <th>Aberdeen</th>\n",
       "      <th>Abingdon</th>\n",
       "      <th>...</th>\n",
       "      <th>Westernport</th>\n",
       "      <th>Westminster</th>\n",
       "      <th>Wheaton</th>\n",
       "      <th>White Hall</th>\n",
       "      <th>White Marsh</th>\n",
       "      <th>White Plains</th>\n",
       "      <th>Williamsport</th>\n",
       "      <th>Windsor Mill</th>\n",
       "      <th>Woodbine</th>\n",
       "      <th>Woodstock</th>\n",
       "    </tr>\n",
       "  </thead>\n",
       "  <tbody>\n",
       "    <tr>\n",
       "      <th>0</th>\n",
       "      <td>Townhouse for sale</td>\n",
       "      <td>499900</td>\n",
       "      <td>1432</td>\n",
       "      <td>2</td>\n",
       "      <td>2.0</td>\n",
       "      <td>Washington Navy Yard</td>\n",
       "      <td>DC</td>\n",
       "      <td>20374</td>\n",
       "      <td>0</td>\n",
       "      <td>0</td>\n",
       "      <td>...</td>\n",
       "      <td>0</td>\n",
       "      <td>0</td>\n",
       "      <td>0</td>\n",
       "      <td>0</td>\n",
       "      <td>0</td>\n",
       "      <td>0</td>\n",
       "      <td>0</td>\n",
       "      <td>0</td>\n",
       "      <td>0</td>\n",
       "      <td>0</td>\n",
       "    </tr>\n",
       "    <tr>\n",
       "      <th>1</th>\n",
       "      <td>Condo for sale</td>\n",
       "      <td>257444</td>\n",
       "      <td>778</td>\n",
       "      <td>2</td>\n",
       "      <td>1.0</td>\n",
       "      <td>Washington</td>\n",
       "      <td>DC</td>\n",
       "      <td>20002</td>\n",
       "      <td>0</td>\n",
       "      <td>0</td>\n",
       "      <td>...</td>\n",
       "      <td>0</td>\n",
       "      <td>0</td>\n",
       "      <td>0</td>\n",
       "      <td>0</td>\n",
       "      <td>0</td>\n",
       "      <td>0</td>\n",
       "      <td>0</td>\n",
       "      <td>0</td>\n",
       "      <td>0</td>\n",
       "      <td>0</td>\n",
       "    </tr>\n",
       "    <tr>\n",
       "      <th>2</th>\n",
       "      <td>House for sale</td>\n",
       "      <td>1068000</td>\n",
       "      <td>2340</td>\n",
       "      <td>3</td>\n",
       "      <td>4.0</td>\n",
       "      <td>Washington</td>\n",
       "      <td>DC</td>\n",
       "      <td>20015</td>\n",
       "      <td>0</td>\n",
       "      <td>0</td>\n",
       "      <td>...</td>\n",
       "      <td>0</td>\n",
       "      <td>0</td>\n",
       "      <td>0</td>\n",
       "      <td>0</td>\n",
       "      <td>0</td>\n",
       "      <td>0</td>\n",
       "      <td>0</td>\n",
       "      <td>0</td>\n",
       "      <td>0</td>\n",
       "      <td>0</td>\n",
       "    </tr>\n",
       "    <tr>\n",
       "      <th>3</th>\n",
       "      <td>Condo for sale</td>\n",
       "      <td>159000</td>\n",
       "      <td>850</td>\n",
       "      <td>2</td>\n",
       "      <td>2.0</td>\n",
       "      <td>Washington</td>\n",
       "      <td>DC</td>\n",
       "      <td>20024</td>\n",
       "      <td>0</td>\n",
       "      <td>0</td>\n",
       "      <td>...</td>\n",
       "      <td>0</td>\n",
       "      <td>0</td>\n",
       "      <td>0</td>\n",
       "      <td>0</td>\n",
       "      <td>0</td>\n",
       "      <td>0</td>\n",
       "      <td>0</td>\n",
       "      <td>0</td>\n",
       "      <td>0</td>\n",
       "      <td>0</td>\n",
       "    </tr>\n",
       "    <tr>\n",
       "      <th>4</th>\n",
       "      <td>Townhouse for sale</td>\n",
       "      <td>650000</td>\n",
       "      <td>1400</td>\n",
       "      <td>3</td>\n",
       "      <td>3.0</td>\n",
       "      <td>Washington</td>\n",
       "      <td>DC</td>\n",
       "      <td>20011</td>\n",
       "      <td>0</td>\n",
       "      <td>0</td>\n",
       "      <td>...</td>\n",
       "      <td>0</td>\n",
       "      <td>0</td>\n",
       "      <td>0</td>\n",
       "      <td>0</td>\n",
       "      <td>0</td>\n",
       "      <td>0</td>\n",
       "      <td>0</td>\n",
       "      <td>0</td>\n",
       "      <td>0</td>\n",
       "      <td>0</td>\n",
       "    </tr>\n",
       "  </tbody>\n",
       "</table>\n",
       "<p>5 rows × 220 columns</p>\n",
       "</div>"
      ],
      "text/plain": [
       "           statusText    price  area  beds  baths           addressCity  \\\n",
       "0  Townhouse for sale   499900  1432     2    2.0  Washington Navy Yard   \n",
       "1      Condo for sale   257444   778     2    1.0            Washington   \n",
       "2      House for sale  1068000  2340     3    4.0            Washington   \n",
       "3      Condo for sale   159000   850     2    2.0            Washington   \n",
       "4  Townhouse for sale   650000  1400     3    3.0            Washington   \n",
       "\n",
       "  addressState  addressZipcode  Aberdeen  Abingdon  ...  Westernport  \\\n",
       "0           DC           20374         0         0  ...            0   \n",
       "1           DC           20002         0         0  ...            0   \n",
       "2           DC           20015         0         0  ...            0   \n",
       "3           DC           20024         0         0  ...            0   \n",
       "4           DC           20011         0         0  ...            0   \n",
       "\n",
       "   Westminster  Wheaton  White Hall  White Marsh  White Plains  Williamsport  \\\n",
       "0            0        0           0            0             0             0   \n",
       "1            0        0           0            0             0             0   \n",
       "2            0        0           0            0             0             0   \n",
       "3            0        0           0            0             0             0   \n",
       "4            0        0           0            0             0             0   \n",
       "\n",
       "   Windsor Mill  Woodbine  Woodstock  \n",
       "0             0         0          0  \n",
       "1             0         0          0  \n",
       "2             0         0          0  \n",
       "3             0         0          0  \n",
       "4             0         0          0  \n",
       "\n",
       "[5 rows x 220 columns]"
      ]
     },
     "execution_count": 20,
     "metadata": {},
     "output_type": "execute_result"
    }
   ],
   "source": [
    "df4 = pd.concat([df3,dummies3],axis='columns')\n",
    "df4.head()\n"
   ]
  },
  {
   "cell_type": "code",
   "execution_count": 21,
   "id": "880d1a43",
   "metadata": {},
   "outputs": [
    {
     "data": {
      "text/html": [
       "<div>\n",
       "<style scoped>\n",
       "    .dataframe tbody tr th:only-of-type {\n",
       "        vertical-align: middle;\n",
       "    }\n",
       "\n",
       "    .dataframe tbody tr th {\n",
       "        vertical-align: top;\n",
       "    }\n",
       "\n",
       "    .dataframe thead th {\n",
       "        text-align: right;\n",
       "    }\n",
       "</style>\n",
       "<table border=\"1\" class=\"dataframe\">\n",
       "  <thead>\n",
       "    <tr style=\"text-align: right;\">\n",
       "      <th></th>\n",
       "      <th>price</th>\n",
       "      <th>area</th>\n",
       "      <th>beds</th>\n",
       "      <th>baths</th>\n",
       "      <th>addressZipcode</th>\n",
       "      <th>Aberdeen</th>\n",
       "      <th>Abingdon</th>\n",
       "      <th>Accident</th>\n",
       "      <th>Accokeek</th>\n",
       "      <th>Adamstown</th>\n",
       "      <th>...</th>\n",
       "      <th>Westernport</th>\n",
       "      <th>Westminster</th>\n",
       "      <th>Wheaton</th>\n",
       "      <th>White Hall</th>\n",
       "      <th>White Marsh</th>\n",
       "      <th>White Plains</th>\n",
       "      <th>Williamsport</th>\n",
       "      <th>Windsor Mill</th>\n",
       "      <th>Woodbine</th>\n",
       "      <th>Woodstock</th>\n",
       "    </tr>\n",
       "  </thead>\n",
       "  <tbody>\n",
       "    <tr>\n",
       "      <th>0</th>\n",
       "      <td>499900</td>\n",
       "      <td>1432</td>\n",
       "      <td>2</td>\n",
       "      <td>2.0</td>\n",
       "      <td>20374</td>\n",
       "      <td>0</td>\n",
       "      <td>0</td>\n",
       "      <td>0</td>\n",
       "      <td>0</td>\n",
       "      <td>0</td>\n",
       "      <td>...</td>\n",
       "      <td>0</td>\n",
       "      <td>0</td>\n",
       "      <td>0</td>\n",
       "      <td>0</td>\n",
       "      <td>0</td>\n",
       "      <td>0</td>\n",
       "      <td>0</td>\n",
       "      <td>0</td>\n",
       "      <td>0</td>\n",
       "      <td>0</td>\n",
       "    </tr>\n",
       "    <tr>\n",
       "      <th>1</th>\n",
       "      <td>257444</td>\n",
       "      <td>778</td>\n",
       "      <td>2</td>\n",
       "      <td>1.0</td>\n",
       "      <td>20002</td>\n",
       "      <td>0</td>\n",
       "      <td>0</td>\n",
       "      <td>0</td>\n",
       "      <td>0</td>\n",
       "      <td>0</td>\n",
       "      <td>...</td>\n",
       "      <td>0</td>\n",
       "      <td>0</td>\n",
       "      <td>0</td>\n",
       "      <td>0</td>\n",
       "      <td>0</td>\n",
       "      <td>0</td>\n",
       "      <td>0</td>\n",
       "      <td>0</td>\n",
       "      <td>0</td>\n",
       "      <td>0</td>\n",
       "    </tr>\n",
       "  </tbody>\n",
       "</table>\n",
       "<p>2 rows × 217 columns</p>\n",
       "</div>"
      ],
      "text/plain": [
       "    price  area  beds  baths  addressZipcode  Aberdeen  Abingdon  Accident  \\\n",
       "0  499900  1432     2    2.0           20374         0         0         0   \n",
       "1  257444   778     2    1.0           20002         0         0         0   \n",
       "\n",
       "   Accokeek  Adamstown  ...  Westernport  Westminster  Wheaton  White Hall  \\\n",
       "0         0          0  ...            0            0        0           0   \n",
       "1         0          0  ...            0            0        0           0   \n",
       "\n",
       "   White Marsh  White Plains  Williamsport  Windsor Mill  Woodbine  Woodstock  \n",
       "0            0             0             0             0         0          0  \n",
       "1            0             0             0             0         0          0  \n",
       "\n",
       "[2 rows x 217 columns]"
      ]
     },
     "execution_count": 21,
     "metadata": {},
     "output_type": "execute_result"
    }
   ],
   "source": [
    "df5 = df4.drop(['addressState','statusText','addressCity'],axis='columns')\n",
    "df5.head(2)"
   ]
  },
  {
   "cell_type": "code",
   "execution_count": 22,
   "id": "e24e4fce",
   "metadata": {},
   "outputs": [
    {
     "data": {
      "text/html": [
       "<div>\n",
       "<style scoped>\n",
       "    .dataframe tbody tr th:only-of-type {\n",
       "        vertical-align: middle;\n",
       "    }\n",
       "\n",
       "    .dataframe tbody tr th {\n",
       "        vertical-align: top;\n",
       "    }\n",
       "\n",
       "    .dataframe thead th {\n",
       "        text-align: right;\n",
       "    }\n",
       "</style>\n",
       "<table border=\"1\" class=\"dataframe\">\n",
       "  <thead>\n",
       "    <tr style=\"text-align: right;\">\n",
       "      <th></th>\n",
       "      <th>area</th>\n",
       "      <th>beds</th>\n",
       "      <th>baths</th>\n",
       "      <th>addressZipcode</th>\n",
       "      <th>Aberdeen</th>\n",
       "      <th>Abingdon</th>\n",
       "      <th>Accident</th>\n",
       "      <th>Accokeek</th>\n",
       "      <th>Adamstown</th>\n",
       "      <th>Annapolis</th>\n",
       "      <th>...</th>\n",
       "      <th>Westernport</th>\n",
       "      <th>Westminster</th>\n",
       "      <th>Wheaton</th>\n",
       "      <th>White Hall</th>\n",
       "      <th>White Marsh</th>\n",
       "      <th>White Plains</th>\n",
       "      <th>Williamsport</th>\n",
       "      <th>Windsor Mill</th>\n",
       "      <th>Woodbine</th>\n",
       "      <th>Woodstock</th>\n",
       "    </tr>\n",
       "  </thead>\n",
       "  <tbody>\n",
       "    <tr>\n",
       "      <th>0</th>\n",
       "      <td>1432</td>\n",
       "      <td>2</td>\n",
       "      <td>2.0</td>\n",
       "      <td>20374</td>\n",
       "      <td>0</td>\n",
       "      <td>0</td>\n",
       "      <td>0</td>\n",
       "      <td>0</td>\n",
       "      <td>0</td>\n",
       "      <td>0</td>\n",
       "      <td>...</td>\n",
       "      <td>0</td>\n",
       "      <td>0</td>\n",
       "      <td>0</td>\n",
       "      <td>0</td>\n",
       "      <td>0</td>\n",
       "      <td>0</td>\n",
       "      <td>0</td>\n",
       "      <td>0</td>\n",
       "      <td>0</td>\n",
       "      <td>0</td>\n",
       "    </tr>\n",
       "    <tr>\n",
       "      <th>1</th>\n",
       "      <td>778</td>\n",
       "      <td>2</td>\n",
       "      <td>1.0</td>\n",
       "      <td>20002</td>\n",
       "      <td>0</td>\n",
       "      <td>0</td>\n",
       "      <td>0</td>\n",
       "      <td>0</td>\n",
       "      <td>0</td>\n",
       "      <td>0</td>\n",
       "      <td>...</td>\n",
       "      <td>0</td>\n",
       "      <td>0</td>\n",
       "      <td>0</td>\n",
       "      <td>0</td>\n",
       "      <td>0</td>\n",
       "      <td>0</td>\n",
       "      <td>0</td>\n",
       "      <td>0</td>\n",
       "      <td>0</td>\n",
       "      <td>0</td>\n",
       "    </tr>\n",
       "    <tr>\n",
       "      <th>2</th>\n",
       "      <td>2340</td>\n",
       "      <td>3</td>\n",
       "      <td>4.0</td>\n",
       "      <td>20015</td>\n",
       "      <td>0</td>\n",
       "      <td>0</td>\n",
       "      <td>0</td>\n",
       "      <td>0</td>\n",
       "      <td>0</td>\n",
       "      <td>0</td>\n",
       "      <td>...</td>\n",
       "      <td>0</td>\n",
       "      <td>0</td>\n",
       "      <td>0</td>\n",
       "      <td>0</td>\n",
       "      <td>0</td>\n",
       "      <td>0</td>\n",
       "      <td>0</td>\n",
       "      <td>0</td>\n",
       "      <td>0</td>\n",
       "      <td>0</td>\n",
       "    </tr>\n",
       "  </tbody>\n",
       "</table>\n",
       "<p>3 rows × 216 columns</p>\n",
       "</div>"
      ],
      "text/plain": [
       "   area  beds  baths  addressZipcode  Aberdeen  Abingdon  Accident  Accokeek  \\\n",
       "0  1432     2    2.0           20374         0         0         0         0   \n",
       "1   778     2    1.0           20002         0         0         0         0   \n",
       "2  2340     3    4.0           20015         0         0         0         0   \n",
       "\n",
       "   Adamstown  Annapolis  ...  Westernport  Westminster  Wheaton  White Hall  \\\n",
       "0          0          0  ...            0            0        0           0   \n",
       "1          0          0  ...            0            0        0           0   \n",
       "2          0          0  ...            0            0        0           0   \n",
       "\n",
       "   White Marsh  White Plains  Williamsport  Windsor Mill  Woodbine  Woodstock  \n",
       "0            0             0             0             0         0          0  \n",
       "1            0             0             0             0         0          0  \n",
       "2            0             0             0             0         0          0  \n",
       "\n",
       "[3 rows x 216 columns]"
      ]
     },
     "execution_count": 22,
     "metadata": {},
     "output_type": "execute_result"
    }
   ],
   "source": [
    "X = df5.drop(['price'],axis='columns')\n",
    "X.head(3)"
   ]
  },
  {
   "cell_type": "code",
   "execution_count": 23,
   "id": "94f9346b",
   "metadata": {},
   "outputs": [
    {
     "data": {
      "text/plain": [
       "(1580, 216)"
      ]
     },
     "execution_count": 23,
     "metadata": {},
     "output_type": "execute_result"
    }
   ],
   "source": [
    "X.shape"
   ]
  },
  {
   "cell_type": "code",
   "execution_count": 24,
   "id": "0d36af4d",
   "metadata": {},
   "outputs": [
    {
     "data": {
      "text/plain": [
       "0     499900\n",
       "1     257444\n",
       "2    1068000\n",
       "Name: price, dtype: int64"
      ]
     },
     "execution_count": 24,
     "metadata": {},
     "output_type": "execute_result"
    }
   ],
   "source": [
    "y = df5.price\n",
    "y.head(3)"
   ]
  },
  {
   "cell_type": "code",
   "execution_count": 25,
   "id": "3527ad5e",
   "metadata": {},
   "outputs": [],
   "source": [
    "from sklearn.model_selection import train_test_split\n",
    "X_train, X_test, y_train, y_test = train_test_split(X,y,test_size=0.2,random_state=10)"
   ]
  },
  {
   "cell_type": "code",
   "execution_count": 26,
   "id": "ad540fb6",
   "metadata": {},
   "outputs": [
    {
     "data": {
      "text/plain": [
       "-1.3291374768926284e+16"
      ]
     },
     "execution_count": 26,
     "metadata": {},
     "output_type": "execute_result"
    }
   ],
   "source": [
    "from sklearn.linear_model import LinearRegression\n",
    "lr_clf = LinearRegression()\n",
    "lr_clf.fit(X_train,y_train)\n",
    "lr_clf.score(X_test,y_test)"
   ]
  },
  {
   "cell_type": "code",
   "execution_count": 27,
   "id": "8ff4e557",
   "metadata": {},
   "outputs": [
    {
     "data": {
      "text/plain": [
       "0.7182588657421433"
      ]
     },
     "execution_count": 27,
     "metadata": {},
     "output_type": "execute_result"
    }
   ],
   "source": [
    "from sklearn.tree import DecisionTreeRegressor \n",
    "  \n",
    "# create a regressor object\n",
    "regressor = DecisionTreeRegressor(random_state = 0) \n",
    "  \n",
    "# fit the regressor with X and Y data\n",
    "regressor.fit(X_train,y_train)\n",
    "regressor.score(X_test,y_test)"
   ]
  },
  {
   "cell_type": "code",
   "execution_count": 28,
   "id": "1bcde6cb",
   "metadata": {},
   "outputs": [
    {
     "data": {
      "text/plain": [
       "array([ 5.05247253e-01, -7.93255412e+15, -4.02311235e+17, -1.23069629e+18,\n",
       "       -2.57593775e+18])"
      ]
     },
     "execution_count": 28,
     "metadata": {},
     "output_type": "execute_result"
    }
   ],
   "source": [
    "from sklearn.model_selection import ShuffleSplit\n",
    "from sklearn.model_selection import cross_val_score\n",
    "\n",
    "cv = ShuffleSplit(n_splits=5, test_size=0.2, random_state=0)\n",
    "\n",
    "cross_val_score(LinearRegression(), X, y, cv=cv)"
   ]
  },
  {
   "cell_type": "code",
   "execution_count": 29,
   "id": "993ffce9",
   "metadata": {},
   "outputs": [],
   "source": [
    "warnings.filterwarnings(\"ignore\")"
   ]
  },
  {
   "cell_type": "code",
   "execution_count": null,
   "id": "abb94b9a",
   "metadata": {},
   "outputs": [],
   "source": [
    "from sklearn.model_selection import GridSearchCV\n",
    "\n",
    "from sklearn.linear_model import Lasso\n",
    "from sklearn.tree import DecisionTreeRegressor\n",
    "\n",
    "def find_best_model_using_gridsearchcv(X,y):\n",
    "    algos = {\n",
    "        \n",
    "    \n",
    "        'lasso': {\n",
    "            'model': Lasso(),\n",
    "            'params': {\n",
    "                'alpha': [1,2],\n",
    "                'selection': ['random', 'cyclic']\n",
    "            }\n",
    "        },\n",
    "        'decision_tree': {\n",
    "            'model': DecisionTreeRegressor(),\n",
    "            'params': {\n",
    "                'criterion' : ['mse','friedman_mse'],\n",
    "                'splitter': ['best','random']\n",
    "            }\n",
    "        }\n",
    "    }\n",
    "    scores = []\n",
    "    cv = ShuffleSplit(n_splits=5, test_size=0.2, random_state=0)\n",
    "    for algo_name, config in algos.items():\n",
    "        gs =  GridSearchCV(config['model'], config['params'], cv=cv, return_train_score=False)\n",
    "        gs.fit(X,y)\n",
    "        scores.append({\n",
    "            'model': algo_name,\n",
    "            'best_score': gs.best_score_,\n",
    "            'best_params': gs.best_params_\n",
    "        })\n",
    "\n",
    "    return pd.DataFrame(scores,columns=['model','best_score','best_params'])\n",
    "\n",
    "find_best_model_using_gridsearchcv(X,y)"
   ]
  },
  {
   "cell_type": "code",
   "execution_count": 36,
   "id": "012714c8",
   "metadata": {},
   "outputs": [
    {
     "data": {
      "text/plain": [
       "216"
      ]
     },
     "execution_count": 36,
     "metadata": {},
     "output_type": "execute_result"
    }
   ],
   "source": [
    "len(X.columns)"
   ]
  },
  {
   "cell_type": "code",
   "execution_count": 35,
   "id": "7593d9b6",
   "metadata": {},
   "outputs": [],
   "source": [
    "def predict_price(addressCity,area,beds,bath):    \n",
    "    loc_index = np.where((X.columns==addressCity))[0][0]\n",
    "\n",
    "    x = np.zeros(len(X.columns))\n",
    "    len(x)\n",
    "    x[0] = area\n",
    "    x[1] = beds\n",
    "    x[2] = bath\n",
    "    if loc_index >= 0:\n",
    "        x[loc_index] = 1\n",
    "    return regressor.predict([x])[0]"
   ]
  },
  {
   "cell_type": "code",
   "execution_count": 31,
   "id": "eb22df24",
   "metadata": {},
   "outputs": [
    {
     "data": {
      "text/plain": [
       "1099000.0"
      ]
     },
     "execution_count": 31,
     "metadata": {},
     "output_type": "execute_result"
    }
   ],
   "source": [
    "predict_price('White Plains',1600, 5, 1)"
   ]
  },
  {
   "cell_type": "code",
   "execution_count": 39,
   "id": "a951ef17",
   "metadata": {},
   "outputs": [],
   "source": [
    "import pickle\n",
    "pickle.dump(regressor,open('model1.pkl','wb'))\n"
   ]
  },
  {
   "cell_type": "code",
   "execution_count": 38,
   "id": "e575051c",
   "metadata": {},
   "outputs": [],
   "source": [
    "import json\n",
    "columns={\n",
    "    'data_columns':[col.lower() for col in X.columns]\n",
    "}\n",
    "with open(\"columns.json\",'w') as f:\n",
    "    f.write(json.dumps(columns))"
   ]
  },
  {
   "cell_type": "code",
   "execution_count": null,
   "id": "f0b41763",
   "metadata": {},
   "outputs": [],
   "source": []
  }
 ],
 "metadata": {
  "kernelspec": {
   "display_name": "Python 3 (ipykernel)",
   "language": "python",
   "name": "python3"
  },
  "language_info": {
   "codemirror_mode": {
    "name": "ipython",
    "version": 3
   },
   "file_extension": ".py",
   "mimetype": "text/x-python",
   "name": "python",
   "nbconvert_exporter": "python",
   "pygments_lexer": "ipython3",
   "version": "3.9.7"
  }
 },
 "nbformat": 4,
 "nbformat_minor": 5
}
